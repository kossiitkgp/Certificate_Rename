{
 "cells": [
  {
   "cell_type": "code",
   "execution_count": null,
   "metadata": {},
   "outputs": [],
   "source": [
    "import os\n",
    "from PIL import Image\n",
    "import pytesseract\n",
    "import argparse"
   ]
  },
  {
   "cell_type": "code",
   "execution_count": null,
   "metadata": {},
   "outputs": [],
   "source": [
    "# loop across all the files in the directory\n",
    "for file_no,file in enumerate(os.listdir()):\n",
    "    \n",
    "    if file.startswith(\"KWoC\"):\n",
    "        # Get the text from the image\n",
    "        OCR = pytesseract.image_to_string(Image.open(file))\n",
    "                                          \n",
    "        # Split it into a list based on end line char\n",
    "        OCR = OCR.split('\\n')\n",
    "        \n",
    "        # Get the index of any permanent text \n",
    "        ind = OCR.index(\"presented to\")\n",
    "                                          \n",
    "        # There is a gap (\"\") between every string, \n",
    "        # so the {name} will be after two indices of \"presented to\"\n",
    "        if bool(OCR[ind+2]):\n",
    "            name=OCR[7]\n",
    "        # In some cases the names is right after \"presented to\" !\n",
    "        else:\n",
    "            name=OCR[ind+1]\n",
    "        # Rename\n",
    "        os.rename(file,\"{} KWoC Mentor Certificate.jpg\".format(name))"
   ]
  }
 ],
 "metadata": {
  "kernelspec": {
   "display_name": "Python 3",
   "language": "python",
   "name": "python3"
  },
  "language_info": {
   "codemirror_mode": {
    "name": "ipython",
    "version": 3
   },
   "file_extension": ".py",
   "mimetype": "text/x-python",
   "name": "python",
   "nbconvert_exporter": "python",
   "pygments_lexer": "ipython3",
   "version": "3.5.2"
  }
 },
 "nbformat": 4,
 "nbformat_minor": 2
}
